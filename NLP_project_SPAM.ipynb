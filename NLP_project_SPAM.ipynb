{
  "cells": [
    {
      "attachments": {},
      "cell_type": "markdown",
      "metadata": {
        "id": "BZSMg4yDF0fL"
      },
      "source": [
        "## Import Libraries"
      ]
    },
    {
      "cell_type": "code",
      "execution_count": 1,
      "metadata": {
        "colab": {
          "base_uri": "https://localhost:8080/"
        },
        "execution": {
          "iopub.execute_input": "2022-01-09T10:26:42.466797Z",
          "iopub.status.busy": "2022-01-09T10:26:42.466314Z",
          "iopub.status.idle": "2022-01-09T10:26:49.843174Z",
          "shell.execute_reply": "2022-01-09T10:26:49.842139Z",
          "shell.execute_reply.started": "2022-01-09T10:26:42.466693Z"
        },
        "id": "gmiXyu6UF0fM",
        "outputId": "290a7287-e2cc-4034-8819-5f379144cf27",
        "trusted": true
      },
      "outputs": [
        {
          "name": "stderr",
          "output_type": "stream",
          "text": [
            "[nltk_data] Downloading package wordnet to\n",
            "[nltk_data]     C:\\Users\\abdulelah\\AppData\\Roaming\\nltk_data...\n",
            "[nltk_data]   Package wordnet is already up-to-date!\n",
            "[nltk_data] Downloading package stopwords to\n",
            "[nltk_data]     C:\\Users\\abdulelah\\AppData\\Roaming\\nltk_data...\n",
            "[nltk_data]   Package stopwords is already up-to-date!\n",
            "[nltk_data] Downloading package punkt to\n",
            "[nltk_data]     C:\\Users\\abdulelah\\AppData\\Roaming\\nltk_data...\n",
            "[nltk_data]   Package punkt is already up-to-date!\n",
            "[nltk_data] Downloading package omw-1.4 to\n",
            "[nltk_data]     C:\\Users\\abdulelah\\AppData\\Roaming\\nltk_data...\n",
            "[nltk_data]   Package omw-1.4 is already up-to-date!\n"
          ]
        },
        {
          "data": {
            "text/plain": [
              "True"
            ]
          },
          "execution_count": 1,
          "metadata": {},
          "output_type": "execute_result"
        }
      ],
      "source": [
        "import nltk\n",
        "import numpy as np\n",
        "import pandas as pd\n",
        "from nltk.stem import WordNetLemmatizer\n",
        "from nltk.tokenize import word_tokenize\n",
        "from nltk.corpus import stopwords\n",
        "import re\n",
        "import string\n",
        "import tensorflow\n",
        "from tensorflow.keras.preprocessing.text import Tokenizer\n",
        "from tensorflow.keras.preprocessing.sequence import pad_sequences\n",
        "from tensorflow.keras import layers\n",
        "from keras.callbacks import ModelCheckpoint, EarlyStopping\n",
        "from tensorflow.keras import layers\n",
        "# from keras.callbacks import EarlyStopping\n",
        "from sklearn.model_selection import train_test_split\n",
        "from sklearn.metrics import classification_report\n",
        "from sklearn.metrics import confusion_matrix\n",
        "import matplotlib.pyplot as plt\n",
        "from sklearn import metrics\n",
        "# import os\n",
        "import seaborn as sns\n",
        "import pickle\n",
        "\n",
        "nltk.download(\"wordnet\")\n",
        "nltk.download(\"stopwords\")\n",
        "nltk.download(\"punkt\")\n",
        "nltk.download(\"omw-1.4\")"
      ]
    },
    {
      "cell_type": "code",
      "execution_count": 2,
      "metadata": {
        "execution": {
          "iopub.execute_input": "2022-01-09T10:26:54.438707Z",
          "iopub.status.busy": "2022-01-09T10:26:54.438320Z",
          "iopub.status.idle": "2022-01-09T10:26:54.487553Z",
          "shell.execute_reply": "2022-01-09T10:26:54.486305Z",
          "shell.execute_reply.started": "2022-01-09T10:26:54.438674Z"
        },
        "id": "U73BW3EXF0fN",
        "trusted": true
      },
      "outputs": [],
      "source": [
        "DataSet = pd.read_csv(\"SPAM_OR_HAM.csv\") #Reading the dataset"
      ]
    },
    {
      "cell_type": "code",
      "execution_count": 3,
      "metadata": {
        "colab": {
          "base_uri": "https://localhost:8080/",
          "height": 676
        },
        "id": "pbtxKiTvUiGm",
        "outputId": "f15c9d9f-20f3-4443-8cd6-c0b8308ea02a"
      },
      "outputs": [
        {
          "data": {
            "text/html": [
              "<div>\n",
              "<style scoped>\n",
              "    .dataframe tbody tr th:only-of-type {\n",
              "        vertical-align: middle;\n",
              "    }\n",
              "\n",
              "    .dataframe tbody tr th {\n",
              "        vertical-align: top;\n",
              "    }\n",
              "\n",
              "    .dataframe thead th {\n",
              "        text-align: right;\n",
              "    }\n",
              "</style>\n",
              "<table border=\"1\" class=\"dataframe\">\n",
              "  <thead>\n",
              "    <tr style=\"text-align: right;\">\n",
              "      <th></th>\n",
              "      <th>Category</th>\n",
              "      <th>Message</th>\n",
              "    </tr>\n",
              "  </thead>\n",
              "  <tbody>\n",
              "    <tr>\n",
              "      <th>0</th>\n",
              "      <td>ham</td>\n",
              "      <td>Go until jurong point, crazy.. Available only ...</td>\n",
              "    </tr>\n",
              "    <tr>\n",
              "      <th>1</th>\n",
              "      <td>ham</td>\n",
              "      <td>Ok lar... Joking wif u oni...</td>\n",
              "    </tr>\n",
              "    <tr>\n",
              "      <th>2</th>\n",
              "      <td>spam</td>\n",
              "      <td>Free entry in 2 a wkly comp to win FA Cup fina...</td>\n",
              "    </tr>\n",
              "    <tr>\n",
              "      <th>3</th>\n",
              "      <td>ham</td>\n",
              "      <td>U dun say so early hor... U c already then say...</td>\n",
              "    </tr>\n",
              "    <tr>\n",
              "      <th>4</th>\n",
              "      <td>ham</td>\n",
              "      <td>Nah I don't think he goes to usf, he lives aro...</td>\n",
              "    </tr>\n",
              "    <tr>\n",
              "      <th>5</th>\n",
              "      <td>spam</td>\n",
              "      <td>FreeMsg Hey there darling it's been 3 week's n...</td>\n",
              "    </tr>\n",
              "    <tr>\n",
              "      <th>6</th>\n",
              "      <td>ham</td>\n",
              "      <td>Even my brother is not like to speak with me. ...</td>\n",
              "    </tr>\n",
              "    <tr>\n",
              "      <th>7</th>\n",
              "      <td>ham</td>\n",
              "      <td>As per your request 'Melle Melle (Oru Minnamin...</td>\n",
              "    </tr>\n",
              "    <tr>\n",
              "      <th>8</th>\n",
              "      <td>spam</td>\n",
              "      <td>WINNER!! As a valued network customer you have...</td>\n",
              "    </tr>\n",
              "    <tr>\n",
              "      <th>9</th>\n",
              "      <td>spam</td>\n",
              "      <td>Had your mobile 11 months or more? U R entitle...</td>\n",
              "    </tr>\n",
              "    <tr>\n",
              "      <th>10</th>\n",
              "      <td>ham</td>\n",
              "      <td>I'm gonna be home soon and i don't want to tal...</td>\n",
              "    </tr>\n",
              "    <tr>\n",
              "      <th>11</th>\n",
              "      <td>spam</td>\n",
              "      <td>SIX chances to win CASH! From 100 to 20,000 po...</td>\n",
              "    </tr>\n",
              "    <tr>\n",
              "      <th>12</th>\n",
              "      <td>spam</td>\n",
              "      <td>URGENT! You have won a 1 week FREE membership ...</td>\n",
              "    </tr>\n",
              "    <tr>\n",
              "      <th>13</th>\n",
              "      <td>ham</td>\n",
              "      <td>I've been searching for the right words to tha...</td>\n",
              "    </tr>\n",
              "    <tr>\n",
              "      <th>14</th>\n",
              "      <td>ham</td>\n",
              "      <td>I HAVE A DATE ON SUNDAY WITH WILL!!</td>\n",
              "    </tr>\n",
              "    <tr>\n",
              "      <th>15</th>\n",
              "      <td>spam</td>\n",
              "      <td>XXXMobileMovieClub: To use your credit, click ...</td>\n",
              "    </tr>\n",
              "    <tr>\n",
              "      <th>16</th>\n",
              "      <td>ham</td>\n",
              "      <td>Oh k...i'm watching here:)</td>\n",
              "    </tr>\n",
              "    <tr>\n",
              "      <th>17</th>\n",
              "      <td>ham</td>\n",
              "      <td>Eh u remember how 2 spell his name... Yes i di...</td>\n",
              "    </tr>\n",
              "    <tr>\n",
              "      <th>18</th>\n",
              "      <td>ham</td>\n",
              "      <td>Fine if thats the way u feel. Thats the way ...</td>\n",
              "    </tr>\n",
              "    <tr>\n",
              "      <th>19</th>\n",
              "      <td>spam</td>\n",
              "      <td>England v Macedonia - dont miss the goals/team...</td>\n",
              "    </tr>\n",
              "  </tbody>\n",
              "</table>\n",
              "</div>"
            ],
            "text/plain": [
              "   Category                                            Message\n",
              "0       ham  Go until jurong point, crazy.. Available only ...\n",
              "1       ham                      Ok lar... Joking wif u oni...\n",
              "2      spam  Free entry in 2 a wkly comp to win FA Cup fina...\n",
              "3       ham  U dun say so early hor... U c already then say...\n",
              "4       ham  Nah I don't think he goes to usf, he lives aro...\n",
              "5      spam  FreeMsg Hey there darling it's been 3 week's n...\n",
              "6       ham  Even my brother is not like to speak with me. ...\n",
              "7       ham  As per your request 'Melle Melle (Oru Minnamin...\n",
              "8      spam  WINNER!! As a valued network customer you have...\n",
              "9      spam  Had your mobile 11 months or more? U R entitle...\n",
              "10      ham  I'm gonna be home soon and i don't want to tal...\n",
              "11     spam  SIX chances to win CASH! From 100 to 20,000 po...\n",
              "12     spam  URGENT! You have won a 1 week FREE membership ...\n",
              "13      ham  I've been searching for the right words to tha...\n",
              "14      ham                I HAVE A DATE ON SUNDAY WITH WILL!!\n",
              "15     spam  XXXMobileMovieClub: To use your credit, click ...\n",
              "16      ham                         Oh k...i'm watching here:)\n",
              "17      ham  Eh u remember how 2 spell his name... Yes i di...\n",
              "18      ham  Fine if thats the way u feel. Thats the way ...\n",
              "19     spam  England v Macedonia - dont miss the goals/team..."
            ]
          },
          "execution_count": 3,
          "metadata": {},
          "output_type": "execute_result"
        }
      ],
      "source": [
        "DataSet.head(20) # this function shows you the number of row that you want from the dataset"
      ]
    },
    {
      "cell_type": "code",
      "execution_count": 4,
      "metadata": {
        "colab": {
          "base_uri": "https://localhost:8080/"
        },
        "execution": {
          "iopub.execute_input": "2022-01-09T10:26:57.067053Z",
          "iopub.status.busy": "2022-01-09T10:26:57.066510Z",
          "iopub.status.idle": "2022-01-09T10:26:57.085401Z",
          "shell.execute_reply": "2022-01-09T10:26:57.084360Z",
          "shell.execute_reply.started": "2022-01-09T10:26:57.067019Z"
        },
        "id": "5Sf_jPUNF0fO",
        "outputId": "76a94fa5-9700-475c-c829-ad1f27f0dd7d",
        "trusted": true
      },
      "outputs": [
        {
          "name": "stdout",
          "output_type": "stream",
          "text": [
            "['ham' 'spam']\n"
          ]
        },
        {
          "data": {
            "text/plain": [
              "Category\n",
              "ham     4823\n",
              "spam     745\n",
              "Name: count, dtype: int64"
            ]
          },
          "execution_count": 4,
          "metadata": {},
          "output_type": "execute_result"
        }
      ],
      "source": [
        "print(DataSet['Category'].unique()) \n",
        "DataSet[\"Category\"].value_counts() #Category refers to the attribute name in the dataset"
      ]
    },
    {
      "attachments": {},
      "cell_type": "markdown",
      "metadata": {
        "id": "EZy1xT5OF0fP"
      },
      "source": [
        "## Check Missing Data and Duplicates"
      ]
    },
    {
      "cell_type": "code",
      "execution_count": 5,
      "metadata": {
        "colab": {
          "base_uri": "https://localhost:8080/"
        },
        "execution": {
          "iopub.execute_input": "2022-01-09T10:26:59.412257Z",
          "iopub.status.busy": "2022-01-09T10:26:59.411958Z",
          "iopub.status.idle": "2022-01-09T10:26:59.424600Z",
          "shell.execute_reply": "2022-01-09T10:26:59.423351Z",
          "shell.execute_reply.started": "2022-01-09T10:26:59.412225Z"
        },
        "id": "P11UsnpsF0fP",
        "outputId": "2c3c02f3-0237-43be-f841-8b5eb7891b2f",
        "trusted": true
      },
      "outputs": [
        {
          "name": "stdout",
          "output_type": "stream",
          "text": [
            "Category    0\n",
            "Message     0\n",
            "dtype: int64\n",
            "\n",
            "\n",
            "Number of duplicates droped:\n",
            "415\n"
          ]
        }
      ],
      "source": [
        "print(DataSet.isnull().sum()) #this show the null varibles in the dataset\n",
        "print(\"\\n\")\n",
        "duplicatesDroped = len(DataSet) - len(DataSet.drop_duplicates())\n",
        "print(\"Number of duplicates droped:\" )\n",
        "print(duplicatesDroped) #this shows numbers of duplicates is the dataset \n",
        "DataSet.drop_duplicates(inplace = True) # this removes any duplicates"
      ]
    },
    {
      "attachments": {},
      "cell_type": "markdown",
      "metadata": {
        "id": "VwR8M_aCF0fQ"
      },
      "source": [
        "## Data Visualization"
      ]
    },
    {
      "cell_type": "code",
      "execution_count": 6,
      "metadata": {
        "colab": {
          "base_uri": "https://localhost:8080/",
          "height": 423
        },
        "execution": {
          "iopub.execute_input": "2022-01-09T10:27:06.398427Z",
          "iopub.status.busy": "2022-01-09T10:27:06.398038Z",
          "iopub.status.idle": "2022-01-09T10:27:06.572436Z",
          "shell.execute_reply": "2022-01-09T10:27:06.571415Z",
          "shell.execute_reply.started": "2022-01-09T10:27:06.398366Z"
        },
        "id": "0pwr7ehFF0fQ",
        "outputId": "79c9a471-5fa1-447d-a2da-2b7ce0faf129",
        "trusted": true
      },
      "outputs": [
        {
          "data": {
            "text/plain": [
              "<Axes: ylabel='count'>"
            ]
          },
          "execution_count": 6,
          "metadata": {},
          "output_type": "execute_result"
        },
        {
          "data": {
            "image/png": "[encoded data removed]",
            "text/plain": [
              "<Figure size 640x480 with 1 Axes>"
            ]
          },
          "metadata": {},
          "output_type": "display_data"
        }
      ],
      "source": [
        "ratio_spam_and_ham = DataSet[\"Category\"].value_counts()\n",
        "ratio_spam_and_ham.plot.pie(autopct = '%1.1f%%')"
      ]
    },
    {
      "attachments": {},
      "cell_type": "markdown",
      "metadata": {
        "id": "eiRJigfXF0fR"
      },
      "source": [
        "# Preparing the corpus"
      ]
    },
    {
      "cell_type": "code",
      "execution_count": 7,
      "metadata": {
        "execution": {
          "iopub.execute_input": "2022-01-09T10:27:42.319229Z",
          "iopub.status.busy": "2022-01-09T10:27:42.318929Z",
          "iopub.status.idle": "2022-01-09T10:27:42.327928Z",
          "shell.execute_reply": "2022-01-09T10:27:42.326919Z",
          "shell.execute_reply.started": "2022-01-09T10:27:42.319199Z"
        },
        "id": "ZXkllzdDF0fR",
        "trusted": true
      },
      "outputs": [],
      "source": [
        "def preprocess(text):\n",
        "  #The re.sub(pat, replacement, str) function searches for all the instances of pattern in the given string, and replaces them.\n",
        "  #The replacement string can include '\\1', '\\2' which refer to the text from group(1), group(2), and so on from the original matching text.\n",
        "    text = text.lower()  #what this fucnction does is that it removes the unwanted charectes from the corpus to prepare\n",
        "    text = re.sub(r'https?://\\S+|www.\\S+', '', text)\n",
        "    text = re.sub(r'<.*?>', '', text)\n",
        "    text = re.sub(r'[^a-zA-Z]+', ' ', text)\n",
        "    text = re.sub(r'[0-9]', '', text)\n",
        "\n",
        "    translator = str.maketrans(\"\", \"\", string.punctuation)\n",
        "\n",
        "    text = text.translate(translator) #The translate() method returns a string where some specified characters are replaced with the character described in a dictionary, or in a mapping table.\n",
        "    words = word_tokenize(text)\n",
        "    words = [word for word in words if word not in stopwords.words(\"english\")]\n",
        "    lemmatizer = WordNetLemmatizer()\n",
        "    words = [lemmatizer.lemmatize(word) for word in words]\n",
        "    text = \" \".join(words)\n",
        "    return text"
      ]
    },
    {
      "cell_type": "code",
      "execution_count": 8,
      "metadata": {
        "execution": {
          "iopub.execute_input": "2022-01-09T10:27:44.996320Z",
          "iopub.status.busy": "2022-01-09T10:27:44.995078Z",
          "iopub.status.idle": "2022-01-09T10:28:03.568638Z",
          "shell.execute_reply": "2022-01-09T10:28:03.567635Z",
          "shell.execute_reply.started": "2022-01-09T10:27:44.996274Z"
        },
        "id": "CjZV2V7mF0fS",
        "trusted": true
      },
      "outputs": [],
      "source": [
        "# Apply the preprocess function to the 'Message' column of the dataset using the map() function\n",
        "DataSet[\"Message\"] = DataSet.Message.map(preprocess) "
      ]
    },
    {
      "cell_type": "code",
      "execution_count": 9,
      "metadata": {
        "execution": {
          "iopub.execute_input": "2022-01-09T10:28:05.871869Z",
          "iopub.status.busy": "2022-01-09T10:28:05.871564Z",
          "iopub.status.idle": "2022-01-09T10:28:05.932883Z",
          "shell.execute_reply": "2022-01-09T10:28:05.931804Z",
          "shell.execute_reply.started": "2022-01-09T10:28:05.871835Z"
        },
        "id": "bv0m6pu7F0fS",
        "trusted": true
      },
      "outputs": [],
      "source": [
        "  #finding the maximum length of all the messages in the dataset\n",
        "maxSeq = len(DataSet[\"Message\"][0])\n",
        "for i in range (0,len(DataSet[\"Message\"])):\n",
        "    try:\n",
        "        cur = len(DataSet[\"Message\"][i])\n",
        "        if (cur > maxSeq):\n",
        "            maxSeq = cur\n",
        "    except:\n",
        "        pass"
      ]
    },
    {
      "cell_type": "code",
      "execution_count": 10,
      "metadata": {
        "execution": {
          "iopub.execute_input": "2022-01-09T10:28:11.051274Z",
          "iopub.status.busy": "2022-01-09T10:28:11.050355Z",
          "iopub.status.idle": "2022-01-09T10:28:11.083355Z",
          "shell.execute_reply": "2022-01-09T10:28:11.082436Z",
          "shell.execute_reply.started": "2022-01-09T10:28:11.051224Z"
        },
        "id": "Wwxx6AC6F0fS",
        "trusted": true
      },
      "outputs": [],
      "source": [
        "from collections import Counter\n",
        "# Define a function to count the occurrence of each word in a text column\n",
        "def counter_word(text_col):\n",
        "    count = Counter()\n",
        "    for text in text_col.values:\n",
        "        for word in text.split():\n",
        "            count[word] += 1\n",
        "    return count\n",
        "\n",
        "# Use the counter_word() function to count the occurrence of each word in the 'Message' column of the dataset\n",
        "counter = counter_word(DataSet.Message)\n",
        "\n",
        "# Set the maximum number of words to the total number of unique words in the 'Message' column of the dataset\n",
        "MAX_NUM_WORDS = len(counter)\n",
        "\n",
        "# Set the maximum sequence length to the value of maxSeq\n",
        "MAX_SEQUENCE_LENGTH = maxSeq"
      ]
    },
    {
      "cell_type": "code",
      "execution_count": 11,
      "metadata": {
        "execution": {
          "iopub.execute_input": "2022-01-09T10:28:16.693510Z",
          "iopub.status.busy": "2022-01-09T10:28:16.693184Z",
          "iopub.status.idle": "2022-01-09T10:28:16.804791Z",
          "shell.execute_reply": "2022-01-09T10:28:16.803885Z",
          "shell.execute_reply.started": "2022-01-09T10:28:16.693479Z"
        },
        "id": "WS8ECeuuF0fS",
        "trusted": true
      },
      "outputs": [],
      "source": [
        "# Set the embedding dimension\n",
        "EMBEDDING_DIM = 100\n",
        "\n",
        "# Create a Tokenizer object with a maximum vocabulary size of MAX_NUM_WORDS\n",
        "tokenizer = Tokenizer(num_words=MAX_NUM_WORDS)\n",
        "\n",
        "# Fit the tokenizer on the text messages in the 'Message' column of the dataset\n",
        "tokenizer.fit_on_texts(DataSet['Message'].values)\n",
        "\n",
        "# Save the tokenizer object to a file using pickle\n",
        "with open(\"tokenizer_SPAM.pickle\", \"wb\") as handle:\n",
        "    pickle.dump(tokenizer, handle, protocol=pickle.HIGHEST_PROTOCOL)"
      ]
    },
    {
      "cell_type": "code",
      "execution_count": 12,
      "metadata": {
        "colab": {
          "base_uri": "https://localhost:8080/"
        },
        "execution": {
          "iopub.execute_input": "2022-01-09T10:28:19.363604Z",
          "iopub.status.busy": "2022-01-09T10:28:19.362954Z",
          "iopub.status.idle": "2022-01-09T10:28:19.487330Z",
          "shell.execute_reply": "2022-01-09T10:28:19.486397Z",
          "shell.execute_reply.started": "2022-01-09T10:28:19.363570Z"
        },
        "id": "dy_4mtmmF0fT",
        "outputId": "9e36d955-1114-4509-e669-1761c2149af8",
        "trusted": true
      },
      "outputs": [
        {
          "name": "stdout",
          "output_type": "stream",
          "text": [
            "Shape of data tensor: (5153, 442)\n"
          ]
        }
      ],
      "source": [
        "# Convert the text messages in the 'Message' column of the dataset to sequences of integers using the tokenizer\n",
        "X = tokenizer.texts_to_sequences(DataSet['Message'].values)\n",
        "\n",
        "# Pad the sequences to a fixed length of MAX_SEQUENCE_LENGTH with zeros\n",
        "X = pad_sequences(X, maxlen=MAX_SEQUENCE_LENGTH)\n",
        "\n",
        "# Print the shape of the data tensor\n",
        "print('Shape of data tensor:', X.shape)"
      ]
    },
    {
      "cell_type": "code",
      "execution_count": 13,
      "metadata": {
        "colab": {
          "base_uri": "https://localhost:8080/"
        },
        "execution": {
          "iopub.execute_input": "2022-01-09T10:28:22.614340Z",
          "iopub.status.busy": "2022-01-09T10:28:22.613799Z",
          "iopub.status.idle": "2022-01-09T10:28:22.626443Z",
          "shell.execute_reply": "2022-01-09T10:28:22.625095Z",
          "shell.execute_reply.started": "2022-01-09T10:28:22.614306Z"
        },
        "id": "5kxm-Eu0F0fT",
        "outputId": "469dcea1-1ee7-49a6-e068-d83e055b12c2",
        "trusted": true
      },
      "outputs": [
        {
          "name": "stdout",
          "output_type": "stream",
          "text": [
            "Shape of label tensor: (5153,)\n"
          ]
        }
      ],
      "source": [
        "from sklearn import preprocessing\n",
        "\n",
        "# Create a LabelEncoder object\n",
        "labelencoder = preprocessing.LabelEncoder()\n",
        "\n",
        "# Encode the target labels with values between 0 and n_classes-1\n",
        "DataSet['Category'] = labelencoder.fit_transform(DataSet['Category'])\n",
        "\n",
        "# Extract the encoded target labels as a numpy array\n",
        "Y = DataSet['Category'].values\n",
        "\n",
        "# Print the shape of the label tensor\n",
        "print('Shape of label tensor:', Y.shape)"
      ]
    },
    {
      "cell_type": "code",
      "execution_count": 14,
      "metadata": {
        "colab": {
          "base_uri": "https://localhost:8080/"
        },
        "execution": {
          "iopub.execute_input": "2022-01-09T10:28:25.780315Z",
          "iopub.status.busy": "2022-01-09T10:28:25.779764Z",
          "iopub.status.idle": "2022-01-09T10:28:25.808356Z",
          "shell.execute_reply": "2022-01-09T10:28:25.806739Z",
          "shell.execute_reply.started": "2022-01-09T10:28:25.780263Z"
        },
        "id": "t1yMsWwoF0fT",
        "outputId": "803cc31c-ff26-4dfb-dfa3-8ba95a6786f1",
        "trusted": true
      },
      "outputs": [
        {
          "name": "stdout",
          "output_type": "stream",
          "text": [
            "(3864, 442) (3864,)\n",
            "(1289, 442) (1289,)\n"
          ]
        }
      ],
      "source": [
        "from sklearn.model_selection import train_test_split\n",
        "# test_size:the number that defines the size of the test set----random state: exposes a number of methods for generating random numbers drawn from a variety of probability distributions\n",
        "X_train, X_test, Y_train, Y_test = train_test_split(X,Y, test_size = 0.25, random_state = 42) \n",
        "print(X_train.shape,Y_train.shape)\n",
        "print(X_test.shape,Y_test.shape)"
      ]
    },
    {
      "attachments": {},
      "cell_type": "markdown",
      "metadata": {
        "id": "4mkZ1IZ-F0fU"
      },
      "source": [
        "\n",
        "# Training the model "
      ]
    },
    {
      "cell_type": "code",
      "execution_count": 15,
      "metadata": {
        "colab": {
          "base_uri": "https://localhost:8080/"
        },
        "execution": {
          "iopub.execute_input": "2022-01-09T10:28:39.751917Z",
          "iopub.status.busy": "2022-01-09T10:28:39.751547Z",
          "iopub.status.idle": "2022-01-09T10:28:53.986005Z",
          "shell.execute_reply": "2022-01-09T10:28:53.985044Z",
          "shell.execute_reply.started": "2022-01-09T10:28:39.751871Z"
        },
        "id": "QSL3Jm23F0fU",
        "outputId": "36a48444-dfb2-464f-9570-8363a96bd3ab",
        "trusted": true
      },
      "outputs": [
        {
          "name": "stdout",
          "output_type": "stream",
          "text": [
            "Model: \"sequential\"\n",
            "_________________________________________________________________\n",
            " Layer (type)                Output Shape              Param #   \n",
            "=================================================================\n",
            " embedding (Embedding)       (None, 442, 100)          707000    \n",
            "                                                                 \n",
            " lstm (LSTM)                 (None, 32)                17024     \n",
            "                                                                 \n",
            " dense (Dense)               (None, 1)                 33        \n",
            "                                                                 \n",
            "=================================================================\n",
            "Total params: 724,057\n",
            "Trainable params: 724,057\n",
            "Non-trainable params: 0\n",
            "_________________________________________________________________\n",
            "None\n",
            "Epoch 1/10\n",
            "49/49 [==============================] - 9s 55ms/step - loss: 0.4146 - accuracy: 0.8570 - val_loss: 0.1944 - val_accuracy: 0.9237\n",
            "Epoch 2/10\n",
            "49/49 [==============================] - 2s 40ms/step - loss: 0.1205 - accuracy: 0.9676 - val_loss: 0.0869 - val_accuracy: 0.9767\n",
            "Epoch 3/10\n",
            "49/49 [==============================] - 2s 38ms/step - loss: 0.0544 - accuracy: 0.9916 - val_loss: 0.0665 - val_accuracy: 0.9780\n",
            "Epoch 4/10\n",
            "49/49 [==============================] - 2s 38ms/step - loss: 0.0315 - accuracy: 0.9948 - val_loss: 0.0549 - val_accuracy: 0.9793\n",
            "Epoch 5/10\n",
            "49/49 [==============================] - 2s 38ms/step - loss: 0.0188 - accuracy: 0.9974 - val_loss: 0.0549 - val_accuracy: 0.9806\n",
            "Epoch 6/10\n",
            "49/49 [==============================] - 2s 42ms/step - loss: 0.0124 - accuracy: 0.9981 - val_loss: 0.0580 - val_accuracy: 0.9780\n",
            "Epoch 7/10\n",
            "49/49 [==============================] - 2s 40ms/step - loss: 0.0092 - accuracy: 0.9987 - val_loss: 0.0584 - val_accuracy: 0.9806\n"
          ]
        }
      ],
      "source": [
        "# Create a sequential model\n",
        "model = tensorflow.keras.models.Sequential() \n",
        "\n",
        "# Add an embedding layer to the model with the specified maximum number of words and embedding dimension\n",
        "model.add(layers.Embedding(MAX_NUM_WORDS, EMBEDDING_DIM, input_length=X.shape[1]))\n",
        "\n",
        "# Add an LSTM layer to the model with 32 units\n",
        "model.add(layers.LSTM(32))\n",
        "\n",
        "# Add a dense output layer to the model with a sigmoid activation function\n",
        "model.add(layers.Dense(1, activation='sigmoid'))\n",
        "\n",
        "# Compile the model with binary cross-entropy loss, the Adam optimizer, and accuracy as a metric\n",
        "model.compile(loss='binary_crossentropy', optimizer='adam', metrics=['accuracy'])\n",
        "\n",
        "# Print a summary of the model architecture\n",
        "print(model.summary())\n",
        "\n",
        "history = model.fit(X_train, Y_train, epochs=10, batch_size=64,validation_split=0.2,callbacks=[EarlyStopping(monitor='val_loss', patience=3, min_delta=0.0001)])\n",
        " #the dataset is split into 20% 80% which mean 80% for traning and 20% for testing\n",
        " #epochs is the total number of iterations of all the training data in one cycle for training the machine learning model\n"
      ]
    },
    {
      "attachments": {},
      "cell_type": "markdown",
      "metadata": {
        "id": "B9mRPcnvF0fV"
      },
      "source": [
        "# Model Evaluation"
      ]
    },
    {
      "cell_type": "code",
      "execution_count": 16,
      "metadata": {
        "colab": {
          "base_uri": "https://localhost:8080/",
          "height": 922
        },
        "execution": {
          "iopub.execute_input": "2022-01-09T10:29:00.490435Z",
          "iopub.status.busy": "2022-01-09T10:29:00.490132Z",
          "iopub.status.idle": "2022-01-09T10:29:00.749979Z",
          "shell.execute_reply": "2022-01-09T10:29:00.748892Z",
          "shell.execute_reply.started": "2022-01-09T10:29:00.490395Z"
        },
        "id": "rAUll8MeF0fV",
        "outputId": "765967df-c8af-4434-ddec-e3af879c8bcc",
        "trusted": true
      },
      "outputs": [
        {
          "data": {
            "image/png": "[encoded data removed]",
            "text/plain": [
              "<Figure size 640x480 with 1 Axes>"
            ]
          },
          "metadata": {},
          "output_type": "display_data"
        },
        {
          "name": "stdout",
          "output_type": "stream",
          "text": [
            "\n",
            "\n"
          ]
        },
        {
          "data": {
            "image/png": "[encoded data removed]",
            "text/plain": [
              "<Figure size 640x480 with 1 Axes>"
            ]
          },
          "metadata": {},
          "output_type": "display_data"
        }
      ],
      "source": [
        "# Plot the training and validation loss\n",
        "plt.title('Loss')\n",
        "plt.plot(history.history['loss'], label='training loss')\n",
        "plt.plot(history.history['val_loss'], label='validation loss')\n",
        "plt.legend()\n",
        "plt.show()\n",
        "\n",
        "# Print a blank line for better readability\n",
        "print(\"\\n\")\n",
        "\n",
        "# Plot the training and validation accuracy\n",
        "plt.title('Accuracy')\n",
        "plt.plot(history.history['accuracy'], label='training accuracy')\n",
        "plt.plot(history.history['val_accuracy'], label='validation accuracy')\n",
        "plt.legend()\n",
        "plt.show()"
      ]
    },
    {
      "cell_type": "code",
      "execution_count": 17,
      "metadata": {
        "colab": {
          "base_uri": "https://localhost:8080/"
        },
        "execution": {
          "iopub.execute_input": "2022-01-09T10:29:10.364242Z",
          "iopub.status.busy": "2022-01-09T10:29:10.363941Z",
          "iopub.status.idle": "2022-01-09T10:29:10.381068Z",
          "shell.execute_reply": "2022-01-09T10:29:10.379660Z",
          "shell.execute_reply.started": "2022-01-09T10:29:10.364212Z"
        },
        "id": "FvgUaAVhF0fW",
        "outputId": "7c75ee1f-7451-42b5-b809-94b8bd58ef08",
        "trusted": true
      },
      "outputs": [
        {
          "name": "stdout",
          "output_type": "stream",
          "text": [
            "41/41 - 1s - 1s/epoch - 26ms/step\n",
            "              precision    recall  f1-score   support\n",
            "\n",
            "         HAM       0.99      0.99      0.99      1129\n",
            "        SPAM       0.94      0.93      0.93       160\n",
            "\n",
            "    accuracy                           0.98      1289\n",
            "   macro avg       0.97      0.96      0.96      1289\n",
            "weighted avg       0.98      0.98      0.98      1289\n",
            "\n"
          ]
        }
      ],
      "source": [
        "# Set the classification threshold\n",
        "threshold_value = 0.5 \n",
        "\n",
        "# Generate predicted labels for the test set using the trained model\n",
        "predicted_labels = model.predict(X_test, verbose=2)\n",
        "\n",
        "# Apply the classification threshold to the predicted labels to obtain binary predictions\n",
        "binary_predictions = predicted_labels > threshold_value\n",
        "binary_predictions = binary_predictions.astype(int)\n",
        "\n",
        "# Import and use the classification report function from sklearn.metrics to calculate performance metrics\n",
        "from sklearn.metrics import classification_report \n",
        "target_names = ['HAM', 'SPAM']\n",
        "print(classification_report(Y_test, binary_predictions, target_names=target_names))"
      ]
    },
    {
      "cell_type": "code",
      "execution_count": 18,
      "metadata": {
        "colab": {
          "base_uri": "https://localhost:8080/",
          "height": 449
        },
        "id": "suMOicPYJXlQ",
        "outputId": "26f97d0b-d5c6-4c4b-a896-a8827c57a33f"
      },
      "outputs": [
        {
          "data": {
            "image/png": "[encoded data removed]",
            "text/plain": [
              "<Figure size 640x480 with 2 Axes>"
            ]
          },
          "metadata": {},
          "output_type": "display_data"
        }
      ],
      "source": [
        "confusion_matrix = metrics.confusion_matrix(Y_test, binary_predictions)\n",
        "\n",
        "cm_display = metrics.ConfusionMatrixDisplay(confusion_matrix, display_labels = [True, False])\n",
        "\n",
        "cm_display.plot()\n",
        "plt.show()"
      ]
    },
    {
      "cell_type": "code",
      "execution_count": 19,
      "metadata": {
        "colab": {
          "base_uri": "https://localhost:8080/",
          "height": 112
        },
        "execution": {
          "iopub.execute_input": "2022-01-09T10:29:14.765851Z",
          "iopub.status.busy": "2022-01-09T10:29:14.765145Z",
          "iopub.status.idle": "2022-01-09T10:29:14.783201Z",
          "shell.execute_reply": "2022-01-09T10:29:14.781964Z",
          "shell.execute_reply.started": "2022-01-09T10:29:14.765814Z"
        },
        "id": "4Vs9I8B4F0fW",
        "outputId": "36073a8d-ed07-40ec-98a9-067ed1b99912",
        "trusted": true
      },
      "outputs": [
        {
          "data": {
            "text/html": [
              "<div>\n",
              "<style scoped>\n",
              "    .dataframe tbody tr th:only-of-type {\n",
              "        vertical-align: middle;\n",
              "    }\n",
              "\n",
              "    .dataframe tbody tr th {\n",
              "        vertical-align: top;\n",
              "    }\n",
              "\n",
              "    .dataframe thead th {\n",
              "        text-align: right;\n",
              "    }\n",
              "</style>\n",
              "<table border=\"1\" class=\"dataframe\">\n",
              "  <thead>\n",
              "    <tr style=\"text-align: right;\">\n",
              "      <th></th>\n",
              "      <th>HAM</th>\n",
              "      <th>SPAM</th>\n",
              "    </tr>\n",
              "  </thead>\n",
              "  <tbody>\n",
              "    <tr>\n",
              "      <th>HAM</th>\n",
              "      <td>1120</td>\n",
              "      <td>9</td>\n",
              "    </tr>\n",
              "    <tr>\n",
              "      <th>SPAM</th>\n",
              "      <td>12</td>\n",
              "      <td>148</td>\n",
              "    </tr>\n",
              "  </tbody>\n",
              "</table>\n",
              "</div>"
            ],
            "text/plain": [
              "       HAM  SPAM\n",
              "HAM   1120     9\n",
              "SPAM    12   148"
            ]
          },
          "execution_count": 19,
          "metadata": {},
          "output_type": "execute_result"
        }
      ],
      "source": [
        "from sklearn.metrics import confusion_matrix\n",
        "cm = confusion_matrix(Y_test, binary_predictions)\n",
        "cm_df = pd.DataFrame(cm, index = target_names, columns = target_names)\n",
        "cm_df.head()"
      ]
    },
    {
      "cell_type": "code",
      "execution_count": 20,
      "metadata": {
        "colab": {
          "base_uri": "https://localhost:8080/",
          "height": 489
        },
        "execution": {
          "iopub.execute_input": "2022-01-09T10:29:20.030277Z",
          "iopub.status.busy": "2022-01-09T10:29:20.029805Z",
          "iopub.status.idle": "2022-01-09T10:29:20.257316Z",
          "shell.execute_reply": "2022-01-09T10:29:20.256337Z",
          "shell.execute_reply.started": "2022-01-09T10:29:20.030243Z"
        },
        "id": "SxTOOGDCF0fW",
        "outputId": "57147447-1c3a-4257-9ecc-3c87737a1f6e",
        "trusted": true
      },
      "outputs": [
        {
          "data": {
            "image/png": "[encoded data removed]",
            "text/plain": [
              "<Figure size 640x480 with 1 Axes>"
            ]
          },
          "metadata": {},
          "output_type": "display_data"
        },
        {
          "name": "stdout",
          "output_type": "stream",
          "text": [
            "Area under the ROC curve: 0.958514171833481\n"
          ]
        }
      ],
      "source": [
        "# Define an array of cutoff values\n",
        "cutoffs = np.linspace(0.0, 1.0, 100)\n",
        "\n",
        "# Initialize empty lists to hold false positive rates and true positive rates\n",
        "fpr_list = []\n",
        "tpr_list = []\n",
        "\n",
        "# Calculate the false positive rate, true positive rate, and cutoff values using the roc_curve function\n",
        "fpr, tpr, _ = metrics.roc_curve(Y_test, binary_predictions, pos_label=1)\n",
        "\n",
        "# Plot the ROC curve using the false positive rate and true positive rate values\n",
        "plt.plot(fpr, tpr, color='red', linewidth=1.0)\n",
        "plt.xlabel('False Positive Rate')\n",
        "plt.ylabel('True Positive Rate')\n",
        "plt.title('Receiver Operating Characteristic (ROC) Curve')\n",
        "plt.show()\n",
        "\n",
        "# Calculate the area under the ROC curve using the roc_auc_score function\n",
        "roc_auc = metrics.roc_auc_score(Y_test, binary_predictions)\n",
        "\n",
        "# Print the area under the ROC curve\n",
        "print(\"Area under the ROC curve:\", roc_auc)"
      ]
    },
    {
      "cell_type": "code",
      "execution_count": 21,
      "metadata": {
        "colab": {
          "base_uri": "https://localhost:8080/",
          "height": 472
        },
        "execution": {
          "iopub.execute_input": "2022-01-09T10:29:23.990789Z",
          "iopub.status.busy": "2022-01-09T10:29:23.990395Z",
          "iopub.status.idle": "2022-01-09T10:29:24.254330Z",
          "shell.execute_reply": "2022-01-09T10:29:24.253307Z",
          "shell.execute_reply.started": "2022-01-09T10:29:23.990756Z"
        },
        "id": "ac0rxlEJF0fX",
        "outputId": "0a6bb8d1-e898-4946-949f-60199f82868a",
        "trusted": true
      },
      "outputs": [
        {
          "data": {
            "image/png": "[encoded data removed]",
            "text/plain": [
              "<Figure size 640x480 with 1 Axes>"
            ]
          },
          "metadata": {},
          "output_type": "display_data"
        }
      ],
      "source": [
        "# Calculate the false positive rate, true positive rate, and thresholds using the roc_curve function\n",
        "fpr, tpr, thresholds = metrics.roc_curve(Y_test, binary_predictions)\n",
        "\n",
        "# Calculate the area under the ROC curve using the auc function\n",
        "auc_score = metrics.auc(fpr, tpr)\n",
        "\n",
        "# Calculate the precision, recall, and threshold values using the precision_recall_curve function\n",
        "precision, recall, th = metrics.precision_recall_curve(Y_test, binary_predictions)\n",
        "\n",
        "# Plot the ROC curve, Precision-Recall curve, and a diagonal line representing random guessing\n",
        "plt.plot([0, 1], [0, 1], 'k--')\n",
        "plt.plot(fpr, tpr, label='ROC curve (area = %0.3f)' % auc_score)\n",
        "plt.plot(recall, precision, label='Precision-Recall curve')\n",
        "plt.title('Binary Classification Model Performance')\n",
        "plt.xlabel('False Positive Rate / Recall')\n",
        "plt.ylabel('True Positive Rate / Precision')\n",
        "plt.legend(loc='best')\n",
        "plt.show()"
      ]
    },
    {
      "attachments": {},
      "cell_type": "markdown",
      "metadata": {
        "id": "FwA3p1XBF0fX"
      },
      "source": [
        "## Save Model"
      ]
    },
    {
      "cell_type": "code",
      "execution_count": 22,
      "metadata": {
        "execution": {
          "iopub.execute_input": "2022-01-09T10:29:29.281664Z",
          "iopub.status.busy": "2022-01-09T10:29:29.281279Z",
          "iopub.status.idle": "2022-01-09T10:29:29.338155Z",
          "shell.execute_reply": "2022-01-09T10:29:29.336979Z",
          "shell.execute_reply.started": "2022-01-09T10:29:29.281619Z"
        },
        "id": "BvcQPNHoF0fX",
        "trusted": true
      },
      "outputs": [],
      "source": [
        "model.save(\"./spamClassificationModel.h5\") #this funcaion saves the model"
      ]
    },
    {
      "attachments": {},
      "cell_type": "markdown",
      "metadata": {
        "id": "stH_CKfGF0fX"
      },
      "source": [
        "## Model Testing"
      ]
    },
    {
      "cell_type": "code",
      "execution_count": null,
      "metadata": {
        "colab": {
          "base_uri": "https://localhost:8080/"
        },
        "execution": {
          "iopub.execute_input": "2022-01-09T10:33:17.216899Z",
          "iopub.status.busy": "2022-01-09T10:33:17.216588Z",
          "iopub.status.idle": "2022-01-09T10:33:21.134628Z",
          "shell.execute_reply": "2022-01-09T10:33:21.133544Z",
          "shell.execute_reply.started": "2022-01-09T10:33:17.216853Z"
        },
        "id": "OyEY4ULiF0fX",
        "outputId": "79a5a108-2bb5-478d-a0be-eeebcd37d5e9",
        "trusted": true
      },
      "outputs": [
        {
          "ename": "",
          "evalue": "",
          "output_type": "error",
          "traceback": [
            "\u001b[1;31mRunning cells with 'c:\\Users\\abdulelah\\AppData\\Local\\Programs\\Python\\Python311\\python.exe' requires the ipykernel package.\n",
            "\u001b[1;31mRun the following command to install 'ipykernel' into the Python environment. \n",
            "\u001b[1;31mCommand: 'c:/Users/abdulelah/AppData/Local/Programs/Python/Python311/python.exe -m pip install ipykernel -U --user --force-reinstall'"
          ]
        }
      ],
      "source": [
        "import tensorflow as tf\n",
        "import pickle\n",
        "\n",
        "# Load the model\n",
        "loaded_model = tf.keras.models.load_model(\"./spamClassificationModel.h5\")\n",
        "\n",
        "# Take input text from user\n",
        "test_text = input(\"Enter the text message: \")\n",
        "print(test_text)\n",
        "# Preprocess the input text\n",
        "test_text = preprocess(test_text) \n",
        "test_text = [test_text] \n",
        "\n",
        "# Load the tokenizer\n",
        "with open(\"./tokenizer_SPAM.pickle\", \"rb\") as handle:\n",
        "    tokenizer = pickle.load(handle)\n",
        "\n",
        "# Convert the input text to a sequence of integers\n",
        "test_seq = tokenizer.texts_to_sequences(test_text)\n",
        "\n",
        "# Pad the sequence to a fixed length\n",
        "max_seq_length = loaded_model.input_shape[1]\n",
        "test_seq = pad_sequences(test_seq, maxlen=max_seq_length)\n",
        "\n",
        "# Apply the model to the input sequence\n",
        "threshold = 0.07\n",
        "binary_predictions = loaded_model.predict(test_seq)[0][0]\n",
        "print(binary_predictions)\n",
        "\n",
        "# Print the result\n",
        "if binary_predictions > threshold:\n",
        "    print(\"SPAM\")\n",
        "else:\n",
        "    print(\"HAM\")"
      ]
    }
  ],
  "metadata": {
    "colab": {
      "provenance": []
    },
    "kernelspec": {
      "display_name": "Python 3",
      "language": "python",
      "name": "python3"
    },
    "language_info": {
      "codemirror_mode": {
        "name": "ipython",
        "version": 3
      },
      "file_extension": ".py",
      "mimetype": "text/x-python",
      "name": "python",
      "nbconvert_exporter": "python",
      "pygments_lexer": "ipython3",
      "version": "3.11.4"
    }
  },
  "nbformat": 4,
  "nbformat_minor": 0
}
